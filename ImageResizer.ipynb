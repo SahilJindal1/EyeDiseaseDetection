{
 "cells": [
  {
   "cell_type": "code",
   "execution_count": 1,
   "metadata": {
    "executionInfo": {
     "elapsed": 64461,
     "status": "ok",
     "timestamp": 1635886489609,
     "user": {
      "displayName": "Siddha Makarand Karkare",
      "photoUrl": "https://lh3.googleusercontent.com/a-/AOh14GiG5UYqr2gtFfWU2l_Kr3KAEMJaElAlR9B-GR7T=s64",
      "userId": "05168781337313669118"
     },
     "user_tz": 240
    },
    "id": "2sVj4pqLZGvg"
   },
   "outputs": [],
   "source": [
    "from PIL import Image\n",
    "from os import walk\n",
    "datasetPath = \"/home/sahil/Desktop/CS 682/Project/archive/Training_Set/Training_Set/Training\"\n",
    "filenames = next(walk(datasetPath), (None, None, []))[2]  # [] if no file\n",
    "\n",
    "basewidth = 500\n",
    "for fImage in filenames:\n",
    "  img = Image.open(datasetPath+\"/\"+fImage)\n",
    "  wpercent = (basewidth / float(img.size[0]))\n",
    "  hsize = int((float(img.size[1]) * float(wpercent)))\n",
    "  img = img.resize((basewidth, hsize), Image.ANTIALIAS)\n",
    "  img.save('/home/sahil/Desktop/CS 682/Project/Resized Image/training/'+fImage)"
   ]
  },
  {
   "cell_type": "code",
   "execution_count": 2,
   "metadata": {},
   "outputs": [],
   "source": [
    "from PIL import Image\n",
    "from os import walk\n",
    "datasetPath = \"/home/sahil/Desktop/CS 682/Project/archive/Test_Set/Test_Set/Test\"\n",
    "filenames = next(walk(datasetPath), (None, None, []))[2]  # [] if no file\n",
    "\n",
    "basewidth = 500\n",
    "for fImage in filenames:\n",
    "  img = Image.open(datasetPath+\"/\"+fImage)\n",
    "  wpercent = (basewidth / float(img.size[0]))\n",
    "  hsize = int((float(img.size[1]) * float(wpercent)))\n",
    "  img = img.resize((basewidth, hsize), Image.ANTIALIAS)\n",
    "  img.save('/home/sahil/Desktop/CS 682/Project/Resized Image/test/'+fImage)"
   ]
  },
  {
   "cell_type": "code",
   "execution_count": 3,
   "metadata": {},
   "outputs": [],
   "source": [
    "from PIL import Image\n",
    "from os import walk\n",
    "datasetPath = \"/home/sahil/Desktop/CS 682/Project/archive/Evaluation_Set/Evaluation_Set/Validation\"\n",
    "filenames = next(walk(datasetPath), (None, None, []))[2]  # [] if no file\n",
    "\n",
    "basewidth = 500\n",
    "for fImage in filenames:\n",
    "  img = Image.open(datasetPath+\"/\"+fImage)\n",
    "  wpercent = (basewidth / float(img.size[0]))\n",
    "  hsize = int((float(img.size[1]) * float(wpercent)))\n",
    "  img = img.resize((basewidth, hsize), Image.ANTIALIAS)\n",
    "  img.save('/home/sahil/Desktop/CS 682/Project/Resized Image/Validation/'+fImage)"
   ]
  }
 ],
 "metadata": {
  "colab": {
   "authorship_tag": "ABX9TyMiNRadMkYBtQCFSJhMP8Z2",
   "collapsed_sections": [],
   "mount_file_id": "1dZ3ypUN0Cs0_Cll0VrkrcWpISoMyP-sM",
   "name": "ImageResizer.ipynb",
   "provenance": []
  },
  "kernelspec": {
   "display_name": "Python 3",
   "language": "python",
   "name": "python3"
  },
  "language_info": {
   "codemirror_mode": {
    "name": "ipython",
    "version": 3
   },
   "file_extension": ".py",
   "mimetype": "text/x-python",
   "name": "python",
   "nbconvert_exporter": "python",
   "pygments_lexer": "ipython3",
   "version": "3.8.8"
  }
 },
 "nbformat": 4,
 "nbformat_minor": 1
}
